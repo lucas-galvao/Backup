{
 "cells": [
  {
   "cell_type": "code",
   "execution_count": 1,
   "metadata": {},
   "outputs": [],
   "source": [
    "import pandas as pd\n",
    "import seaborn as sns\n",
    "import statistics\n",
    "import matplotlib.pyplot as plt\n",
    "from sklearn.ensemble import GradientBoostingClassifier\n",
    "from sklearn.model_selection import train_test_split\n",
    "\n",
    "data = pd.read_csv('titanic_train.csv')"
   ]
  },
  {
   "cell_type": "code",
   "execution_count": 2,
   "metadata": {},
   "outputs": [],
   "source": [
    "data = data.drop(labels = ['PassengerId', 'Name', 'Cabin', 'Ticket', 'Age', \n",
    "                           'Parch', 'Embarked', 'SibSp'], axis = 1)"
   ]
  },
  {
   "cell_type": "code",
   "execution_count": 3,
   "metadata": {},
   "outputs": [],
   "source": [
    "data = pd.get_dummies(data, columns = ['Sex'])\n",
    "data.fillna(value = 0.0, inplace = True)"
   ]
  },
  {
   "cell_type": "code",
   "execution_count": 4,
   "metadata": {},
   "outputs": [],
   "source": [
    "y = data['Survived']\n",
    "x = data.drop('Survived', axis = 1)\n",
    "x_train, x_test, y_train, y_test = train_test_split(x, y, test_size = 0.30, random_state = 12)"
   ]
  },
  {
   "cell_type": "code",
   "execution_count": 5,
   "metadata": {},
   "outputs": [],
   "source": [
    "from sklearn.preprocessing import MinMaxScaler\n",
    "scaler = MinMaxScaler()\n",
    "x = scaler.fit_transform(x)"
   ]
  },
  {
   "cell_type": "code",
   "execution_count": 29,
   "metadata": {},
   "outputs": [],
   "source": [
    "#lr = [0.05, 0.075, 0.1, 0.25, 0.5, 0.75, 1]\n",
    "lr = list(range(5, 100, 5))\n",
    "for a in range(len(lr)):\n",
    "    lr[a] = lr[a] / 100\n",
    "\n",
    "as_train = 0\n",
    "as_val = 0\n",
    "i_train = 0\n",
    "lr_train = 0\n",
    "i_val = 0\n",
    "lr_val = 0\n",
    "\n",
    "for i in range(10, 30):\n",
    "    for rate in lr:\n",
    "        gb = GradientBoostingClassifier(n_estimators = i, learning_rate = rate, max_depth = 2, random_state = 0)\n",
    "        gb = gb.fit(x_train, y_train)\n",
    "        \n",
    "        if gb.score(x_train, y_train) > as_train:\n",
    "            as_train = gb.score(x_train, y_train)\n",
    "            i_train = i\n",
    "            lr_train = rate\n",
    "            \n",
    "        if gb.score(x_test, y_test) > as_val:\n",
    "            as_val = gb.score(x_test, y_test)\n",
    "            i_val = i\n",
    "            lr_val = rate\n",
    "        \n",
    "        \"\"\"\n",
    "        print('Learning Rate: ', rate)\n",
    "        print('Estimators: ', i)\n",
    "        print('Accuracy Score (training): {0:.3f}'.format(gb.score(x_train, y_train)))\n",
    "        print('Accuracy Score (validation): {0:.3f}'.format(gb.score(x_test, y_test)))\n",
    "        \"\"\""
   ]
  },
  {
   "cell_type": "code",
   "execution_count": 30,
   "metadata": {},
   "outputs": [
    {
     "name": "stdout",
     "output_type": "stream",
     "text": [
      "Accuracy Score (training): 0.894\n",
      "Learning Rate:  0.85\n",
      "Estimators:  29\n"
     ]
    }
   ],
   "source": [
    "print('Accuracy Score (training): {0:.3f}'.format(as_train))\n",
    "print('Learning Rate: ', lr_train)\n",
    "print('Estimators: ', i_train)"
   ]
  },
  {
   "cell_type": "code",
   "execution_count": 31,
   "metadata": {},
   "outputs": [
    {
     "name": "stdout",
     "output_type": "stream",
     "text": [
      "Accuracy Score (validation): 0.810\n",
      "Learning Rate:  0.55\n",
      "Estimators:  26\n"
     ]
    }
   ],
   "source": [
    "print('Accuracy Score (validation): {0:.3f}'.format(as_val))\n",
    "print('Learning Rate: ', lr_val)\n",
    "print('Estimators: ', i_val)"
   ]
  },
  {
   "cell_type": "code",
   "execution_count": 9,
   "metadata": {},
   "outputs": [
    {
     "data": {
      "text/plain": [
       "'\\nfrom sklearn.metrics import classification_report, confusion_matrix\\n\\nprint(confusion_matrix(y_test, y_pred))\\nprint(classification_report(y_test, y_pred))\\n'"
      ]
     },
     "execution_count": 9,
     "metadata": {},
     "output_type": "execute_result"
    }
   ],
   "source": [
    "\"\"\"\n",
    "from sklearn.metrics import classification_report, confusion_matrix\n",
    "\n",
    "print(confusion_matrix(y_test, y_pred))\n",
    "print(classification_report(y_test, y_pred))\n",
    "\"\"\""
   ]
  }
 ],
 "metadata": {
  "kernelspec": {
   "display_name": "Python 3",
   "language": "python",
   "name": "python3"
  },
  "language_info": {
   "codemirror_mode": {
    "name": "ipython",
    "version": 3
   },
   "file_extension": ".py",
   "mimetype": "text/x-python",
   "name": "python",
   "nbconvert_exporter": "python",
   "pygments_lexer": "ipython3",
   "version": "3.7.4"
  }
 },
 "nbformat": 4,
 "nbformat_minor": 2
}
